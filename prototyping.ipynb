{
 "cells": [
  {
   "cell_type": "markdown",
   "metadata": {},
   "source": [
    "# Pipeline Prototype"
   ]
  },
  {
   "cell_type": "code",
   "execution_count": 17,
   "metadata": {},
   "outputs": [],
   "source": [
    "from sklearn.pipeline import Pipeline\n",
    "from scikeras.wrappers import KerasRegressor\n",
    "from models.tf.models import LongShortTermMemory\n",
    "from models.tf.dataset import StockDataGenerator\n",
    "from sklearn.model_selection import KFold, GridSearchCV\n",
    "from joblib import Memory"
   ]
  },
  {
   "cell_type": "code",
   "execution_count": 18,
   "metadata": {},
   "outputs": [],
   "source": [
    "VERBOSITY = 1"
   ]
  },
  {
   "cell_type": "code",
   "execution_count": 19,
   "metadata": {},
   "outputs": [],
   "source": [
    "feature_combos = { \n",
    "    'set1': {}, \n",
    "    'set2':\n",
    "    { \n",
    "        'EMA': {}, '%B': {}, 'CCI': {}, \n",
    "        'RSI': {}, 'VIX': {}, 'MIDPRICE': {}, \n",
    "        'MAMA': {}, 'ROCR100': {}\n",
    "    },\n",
    "    'set3':\n",
    "    {\n",
    "        'EMA': {}, '%B': {'timeperiod': 15}, 'CCI': {}, \n",
    "        'RSI': {}, 'VIX': {}, 'MIDPRICE': {'timeperiod': 15},\n",
    "        'MAMA': {}, 'ROCR100': {}, 'AROONOSC': {}\n",
    "    }\n",
    "}"
   ]
  }
 ],
 "metadata": {
  "kernelspec": {
   "display_name": "Python 3.9.10 ('tf_m1')",
   "language": "python",
   "name": "python3"
  },
  "language_info": {
   "codemirror_mode": {
    "name": "ipython",
    "version": 3
   },
   "file_extension": ".py",
   "mimetype": "text/x-python",
   "name": "python",
   "nbconvert_exporter": "python",
   "pygments_lexer": "ipython3",
   "version": "3.9.10"
  },
  "orig_nbformat": 4,
  "vscode": {
   "interpreter": {
    "hash": "899be85650f4fd9fd1c61155ad1038b3bd3ce4f173c19491b42003eb0b61918c"
   }
  }
 },
 "nbformat": 4,
 "nbformat_minor": 2
}
