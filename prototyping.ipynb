{
 "cells": [
  {
   "cell_type": "markdown",
   "metadata": {},
   "source": [
    "# Stock Prediction Experiment"
   ]
  },
  {
   "cell_type": "code",
   "execution_count": null,
   "metadata": {},
   "outputs": [],
   "source": [
    "from models.tf.models import LongShortTermMemory\n",
    "from sklearn.model_selection import GridSearchCV\n",
    "from joblib import Memory\n",
    "from sklearn.pipeline import Pipeline\n",
    "from sklearn.feature_selection import RFE\n",
    "from scikeras.wrappers import KerasRegressor\n",
    "from data.dataset import StockDataGenerator\n",
    "from joblib import Memory\n",
    "from sklearn.base import BaseEstimator\n",
    "from xgboost import XGBRegressor, XGBRFRegressor\n",
    "from sklearn.metrics import make_scorer, mean_squared_error\n",
    "from sklearn.model_selection import TimeSeriesSplit\n",
    "from pipes.steps import ClfSwitcher\n",
    "from IPython.display import clear_output\n",
    "import warnings\n",
    "import os\n",
    "import absl.logging"
   ]
  },
  {
   "cell_type": "code",
   "execution_count": null,
   "metadata": {},
   "outputs": [],
   "source": [
    "warnings.filterwarnings('ignore')\n",
    "os.environ['TF_CPP_MIN_LOG_LEVEL'] = '2'\n",
    "absl.logging.set_verbosity(absl.logging.ERROR)"
   ]
  },
  {
   "cell_type": "code",
   "execution_count": null,
   "metadata": {},
   "outputs": [],
   "source": [
    "VERBOSITY = 1"
   ]
  },
  {
   "cell_type": "code",
   "execution_count": null,
   "metadata": {},
   "outputs": [],
   "source": [
    "feature_combos = [\n",
    "\n",
    "    {\n",
    "        \n",
    "    }, \n",
    "\n",
    "    { \n",
    "        'EMA': {}, '%B': {}, 'CCI': {}, \n",
    "        'RSI': {}, 'VIX': {}, 'MIDPRICE': {}, \n",
    "        'MAMA': {}, 'ROCR100': {}, 'MACD': {}\n",
    "    },\n",
    "\n",
    "    {\n",
    "        'EMA': {}, '%B': {'timeperiod': 15}, 'CCI': {}, \n",
    "        'RSI': {}, 'VIX': {}, 'MIDPRICE': {'timeperiod': 15},\n",
    "        'MAMA': {}, 'ROCR100': {}, 'AROONOSC': {}\n",
    "    }\n",
    "    \n",
    "]"
   ]
  },
  {
   "cell_type": "markdown",
   "metadata": {},
   "source": [
    "## Pipeline"
   ]
  },
  {
   "cell_type": "code",
   "execution_count": null,
   "metadata": {},
   "outputs": [],
   "source": [
    "for i, features in enumerate(feature_combos):\n",
    "    print(f'Feature Set {i + 1}/' + str(len(feature_combos)))\n",
    "    print('Feature: Parameters', end='\\n')\n",
    "    for combo in feature_combos:\n",
    "        for feat, params in combo.items():\n",
    "            print(feat + ': ' + (str(params) if len(params) != 0 else 'defaults'), end='\\n')\n",
    "    data = StockDataGenerator(\n",
    "            'BLK', api='TDA',\n",
    "            period='TEN_YEAR', period_type='YEAR',\n",
    "            frequency='DAILY', frequency_type='DAILY',\n",
    "            features=features, verbose=1, target='close', \n",
    "            lookback=0, pc=True \n",
    "    )\n",
    "    lstm = LongShortTermMemory()\n",
    "    lstm.compile_model(data.X_train, verbose=1, name=f'lstm_{i + 1}')\n",
    "    lstm_nn = KerasRegressor(model=lstm.model)\n",
    "    boosted_trees = XGBRegressor()\n",
    "    boosted_forests = XGBRFRegressor()\n",
    "    model_pipeline = Pipeline([\n",
    "        ('clf', ClfSwitcher()),\n",
    "    ])\n",
    "    model_params = [\n",
    "\n",
    "        {\n",
    "            'clf__estimator': [ lstm_nn ],\n",
    "            'clf__estimator__epochs': [ 50 ],\n",
    "            'clf__estimator__verbose': [ 1 ],\n",
    "        },\n",
    "    \n",
    "        {\n",
    "            'clf__estimator': [ boosted_trees ],\n",
    "            'clf__estimator__learning_rate': [ 1e-4, 1e-3, 1e-2, 1e-1, 1e0 ],\n",
    "        },\n",
    "\n",
    "        {\n",
    "            'clf__estimator': [ boosted_forests ],\n",
    "            'clf__estimator__learning_rate': [ 1e-4, 1e-3, 1e-2, 1e-1, 1e0 ],\n",
    "\n",
    "        },\n",
    "\n",
    "    ]\n",
    "    splitter = TimeSeriesSplit(n_splits=3, gap=0, test_size=len(data.y_test))\n",
    "    splits = splitter.split(data.X)\n",
    "    cv = GridSearchCV(\n",
    "        model_pipeline, model_params, cv=splits, \n",
    "        n_jobs=1, verbose=1, scoring=make_scorer(\n",
    "            mean_squared_error, greater_is_better=False\n",
    "        )\n",
    "    )\n",
    "    gs_results = cv.fit(data.X, data.y)\n",
    "    clear_output(wait=True)"
   ]
  },
  {
   "cell_type": "code",
   "execution_count": null,
   "metadata": {},
   "outputs": [],
   "source": [
    "print(gs_results)"
   ]
  }
 ],
 "metadata": {
  "kernelspec": {
   "display_name": "Python 3.9.10 ('tf_m1')",
   "language": "python",
   "name": "python3"
  },
  "language_info": {
   "codemirror_mode": {
    "name": "ipython",
    "version": 3
   },
   "file_extension": ".py",
   "mimetype": "text/x-python",
   "name": "python",
   "nbconvert_exporter": "python",
   "pygments_lexer": "ipython3",
   "version": "3.9.10"
  },
  "orig_nbformat": 4,
  "vscode": {
   "interpreter": {
    "hash": "899be85650f4fd9fd1c61155ad1038b3bd3ce4f173c19491b42003eb0b61918c"
   }
  }
 },
 "nbformat": 4,
 "nbformat_minor": 2
}
