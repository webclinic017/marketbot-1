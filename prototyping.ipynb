{
 "cells": [
  {
   "cell_type": "markdown",
   "metadata": {},
   "source": [
    "# Pipeline Prototype"
   ]
  },
  {
   "cell_type": "code",
   "execution_count": 13,
   "metadata": {},
   "outputs": [],
   "source": [
    "from sklearn.pipeline import Pipeline\n",
    "from scikeras.wrappers import KerasRegressor\n",
    "from models.tf.models import LongShortTermMemory\n",
    "from models.tf.dataset import StockDataGenerator\n",
    "from sklearn.model_selection import KFold, GridSearchCV\n",
    "from joblib import Memory"
   ]
  },
  {
   "cell_type": "code",
   "execution_count": 14,
   "metadata": {},
   "outputs": [],
   "source": [
    "VERBOSITY = 1"
   ]
  },
  {
   "cell_type": "code",
   "execution_count": 15,
   "metadata": {},
   "outputs": [],
   "source": [
    "feature_combos = { \n",
    "    'set1': {}, \n",
    "    'set2':\n",
    "    { \n",
    "        'EMA': {}, '%B': {}, 'CCI': {}, \n",
    "        'RSI': {}, 'VIX': {}, 'MIDPRICE': {}, \n",
    "        'MAMA': {}, 'ROCR100': {}\n",
    "    },\n",
    "    'set3':\n",
    "    {\n",
    "        'EMA': {}, '%B': {'timeperiod': 15}, 'CCI': {}, \n",
    "        'RSI': {}, 'VIX': {}, 'MIDPRICE': {'timeperiod': 15},\n",
    "        'MAMA': {}, 'ROCR100': {}, 'AROONOSC': {}\n",
    "    }\n",
    "}"
   ]
  },
  {
   "cell_type": "code",
   "execution_count": 16,
   "metadata": {},
   "outputs": [
    {
     "name": "stdout",
     "output_type": "stream",
     "text": [
      "Model: \"set_set3\"\n",
      "_________________________________________________________________\n",
      " Layer (type)                Output Shape              Param #   \n",
      "=================================================================\n",
      " lstm_64 (LSTM)              (None, 5, 100)            40800     \n",
      "                                                                 \n",
      " dropout_64 (Dropout)        (None, 5, 100)            0         \n",
      "                                                                 \n",
      " lstm_65 (LSTM)              (None, 5, 50)             30200     \n",
      "                                                                 \n",
      " dropout_65 (Dropout)        (None, 5, 50)             0         \n",
      "                                                                 \n",
      " bidirectional_32 (Bidirecti  (None, 5, 100)           40400     \n",
      " onal)                                                           \n",
      "                                                                 \n",
      " dropout_66 (Dropout)        (None, 5, 100)            0         \n",
      "                                                                 \n",
      " bidirectional_33 (Bidirecti  (None, 100)              60400     \n",
      " onal)                                                           \n",
      "                                                                 \n",
      " dropout_67 (Dropout)        (None, 100)               0         \n",
      "                                                                 \n",
      " dense_16 (Dense)            (None, 1)                 101       \n",
      "                                                                 \n",
      "=================================================================\n",
      "Total params: 171,901\n",
      "Trainable params: 171,901\n",
      "Non-trainable params: 0\n",
      "_________________________________________________________________\n",
      "Model: \"set_set3\"\n",
      "_________________________________________________________________\n",
      " Layer (type)                Output Shape              Param #   \n",
      "=================================================================\n",
      " lstm_68 (LSTM)              (None, 14, 100)           40800     \n",
      "                                                                 \n",
      " dropout_68 (Dropout)        (None, 14, 100)           0         \n",
      "                                                                 \n",
      " lstm_69 (LSTM)              (None, 14, 50)            30200     \n",
      "                                                                 \n",
      " dropout_69 (Dropout)        (None, 14, 50)            0         \n",
      "                                                                 \n",
      " bidirectional_34 (Bidirecti  (None, 14, 100)          40400     \n",
      " onal)                                                           \n",
      "                                                                 \n",
      " dropout_70 (Dropout)        (None, 14, 100)           0         \n",
      "                                                                 \n",
      " bidirectional_35 (Bidirecti  (None, 100)              60400     \n",
      " onal)                                                           \n",
      "                                                                 \n",
      " dropout_71 (Dropout)        (None, 100)               0         \n",
      "                                                                 \n",
      " dense_17 (Dense)            (None, 1)                 101       \n",
      "                                                                 \n",
      "=================================================================\n",
      "Total params: 171,901\n",
      "Trainable params: 171,901\n",
      "Non-trainable params: 0\n",
      "_________________________________________________________________\n",
      "Model: \"set_set3\"\n",
      "_________________________________________________________________\n",
      " Layer (type)                Output Shape              Param #   \n",
      "=================================================================\n",
      " lstm_72 (LSTM)              (None, 15, 100)           40800     \n",
      "                                                                 \n",
      " dropout_72 (Dropout)        (None, 15, 100)           0         \n",
      "                                                                 \n",
      " lstm_73 (LSTM)              (None, 15, 50)            30200     \n",
      "                                                                 \n",
      " dropout_73 (Dropout)        (None, 15, 50)            0         \n",
      "                                                                 \n",
      " bidirectional_36 (Bidirecti  (None, 15, 100)          40400     \n",
      " onal)                                                           \n",
      "                                                                 \n",
      " dropout_74 (Dropout)        (None, 15, 100)           0         \n",
      "                                                                 \n",
      " bidirectional_37 (Bidirecti  (None, 100)              60400     \n",
      " onal)                                                           \n",
      "                                                                 \n",
      " dropout_75 (Dropout)        (None, 100)               0         \n",
      "                                                                 \n",
      " dense_18 (Dense)            (None, 1)                 101       \n",
      "                                                                 \n",
      "=================================================================\n",
      "Total params: 171,901\n",
      "Trainable params: 171,901\n",
      "Non-trainable params: 0\n",
      "_________________________________________________________________\n"
     ]
    },
    {
     "ename": "KeyError",
     "evalue": "'lstm'",
     "output_type": "error",
     "traceback": [
      "\u001b[0;31m---------------------------------------------------------------------------\u001b[0m",
      "\u001b[0;31mKeyError\u001b[0m                                  Traceback (most recent call last)",
      "Cell \u001b[0;32mIn [16], line 22\u001b[0m\n\u001b[1;32m     15\u001b[0m         model_pipeline \u001b[38;5;241m=\u001b[39m Pipeline([\n\u001b[1;32m     16\u001b[0m             (\u001b[38;5;124mf\u001b[39m\u001b[38;5;124m'\u001b[39m\u001b[38;5;124mlstm_feature_\u001b[39m\u001b[38;5;132;01m{\u001b[39;00mlstm\u001b[38;5;241m.\u001b[39m\u001b[38;5;18m__name__\u001b[39m\u001b[38;5;132;01m}\u001b[39;00m\u001b[38;5;124m'\u001b[39m, lstm)\n\u001b[1;32m     17\u001b[0m         ])\n\u001b[1;32m     18\u001b[0m         model_params \u001b[38;5;241m=\u001b[39m {\n\u001b[1;32m     19\u001b[0m             \u001b[38;5;124m'\u001b[39m\u001b[38;5;124mlstm__epochs\u001b[39m\u001b[38;5;124m'\u001b[39m: \u001b[38;5;241m25\u001b[39m, \u001b[38;5;124m'\u001b[39m\u001b[38;5;124mlstm__verbose\u001b[39m\u001b[38;5;124m'\u001b[39m: \u001b[38;5;241m1\u001b[39m\n\u001b[1;32m     20\u001b[0m         }\n\u001b[0;32m---> 22\u001b[0m \u001b[43mmodel_pipeline\u001b[49m\u001b[38;5;241;43m.\u001b[39;49m\u001b[43mfit\u001b[49m\u001b[43m(\u001b[49m\u001b[43mdata\u001b[49m\u001b[38;5;241;43m.\u001b[39;49m\u001b[43mX_train\u001b[49m\u001b[43m,\u001b[49m\u001b[43m \u001b[49m\u001b[43mdata\u001b[49m\u001b[38;5;241;43m.\u001b[39;49m\u001b[43my_train\u001b[49m\u001b[43m,\u001b[49m\u001b[43m \u001b[49m\u001b[38;5;241;43m*\u001b[39;49m\u001b[38;5;241;43m*\u001b[39;49m\u001b[43mmodel_params\u001b[49m\u001b[43m)\u001b[49m\n",
      "File \u001b[0;32m/opt/homebrew/Caskroom/miniforge/base/envs/tf_m1/lib/python3.9/site-packages/sklearn/pipeline.py:389\u001b[0m, in \u001b[0;36mPipeline.fit\u001b[0;34m(self, X, y, **fit_params)\u001b[0m\n\u001b[1;32m    363\u001b[0m \u001b[39mdef\u001b[39;00m \u001b[39mfit\u001b[39m(\u001b[39mself\u001b[39m, X, y\u001b[39m=\u001b[39m\u001b[39mNone\u001b[39;00m, \u001b[39m*\u001b[39m\u001b[39m*\u001b[39mfit_params):\n\u001b[1;32m    364\u001b[0m     \u001b[39m\"\"\"Fit the model.\u001b[39;00m\n\u001b[1;32m    365\u001b[0m \n\u001b[1;32m    366\u001b[0m \u001b[39m    Fit all the transformers one after the other and transform the\u001b[39;00m\n\u001b[0;32m   (...)\u001b[0m\n\u001b[1;32m    387\u001b[0m \u001b[39m        Pipeline with fitted steps.\u001b[39;00m\n\u001b[1;32m    388\u001b[0m \u001b[39m    \"\"\"\u001b[39;00m\n\u001b[0;32m--> 389\u001b[0m     fit_params_steps \u001b[39m=\u001b[39m \u001b[39mself\u001b[39;49m\u001b[39m.\u001b[39;49m_check_fit_params(\u001b[39m*\u001b[39;49m\u001b[39m*\u001b[39;49mfit_params)\n\u001b[1;32m    390\u001b[0m     Xt \u001b[39m=\u001b[39m \u001b[39mself\u001b[39m\u001b[39m.\u001b[39m_fit(X, y, \u001b[39m*\u001b[39m\u001b[39m*\u001b[39mfit_params_steps)\n\u001b[1;32m    391\u001b[0m     \u001b[39mwith\u001b[39;00m _print_elapsed_time(\u001b[39m\"\u001b[39m\u001b[39mPipeline\u001b[39m\u001b[39m\"\u001b[39m, \u001b[39mself\u001b[39m\u001b[39m.\u001b[39m_log_message(\u001b[39mlen\u001b[39m(\u001b[39mself\u001b[39m\u001b[39m.\u001b[39msteps) \u001b[39m-\u001b[39m \u001b[39m1\u001b[39m)):\n",
      "File \u001b[0;32m/opt/homebrew/Caskroom/miniforge/base/envs/tf_m1/lib/python3.9/site-packages/sklearn/pipeline.py:308\u001b[0m, in \u001b[0;36mPipeline._check_fit_params\u001b[0;34m(self, **fit_params)\u001b[0m\n\u001b[1;32m    300\u001b[0m         \u001b[39mraise\u001b[39;00m \u001b[39mValueError\u001b[39;00m(\n\u001b[1;32m    301\u001b[0m             \u001b[39m\"\u001b[39m\u001b[39mPipeline.fit does not accept the \u001b[39m\u001b[39m{}\u001b[39;00m\u001b[39m parameter. \u001b[39m\u001b[39m\"\u001b[39m\n\u001b[1;32m    302\u001b[0m             \u001b[39m\"\u001b[39m\u001b[39mYou can pass parameters to specific steps of your \u001b[39m\u001b[39m\"\u001b[39m\n\u001b[0;32m   (...)\u001b[0m\n\u001b[1;32m    305\u001b[0m             \u001b[39m\"\u001b[39m\u001b[39m=sample_weight)`.\u001b[39m\u001b[39m\"\u001b[39m\u001b[39m.\u001b[39mformat(pname)\n\u001b[1;32m    306\u001b[0m         )\n\u001b[1;32m    307\u001b[0m     step, param \u001b[39m=\u001b[39m pname\u001b[39m.\u001b[39msplit(\u001b[39m\"\u001b[39m\u001b[39m__\u001b[39m\u001b[39m\"\u001b[39m, \u001b[39m1\u001b[39m)\n\u001b[0;32m--> 308\u001b[0m     fit_params_steps[step][param] \u001b[39m=\u001b[39m pval\n\u001b[1;32m    309\u001b[0m \u001b[39mreturn\u001b[39;00m fit_params_steps\n",
      "\u001b[0;31mKeyError\u001b[0m: 'lstm'"
     ]
    }
   ],
   "source": [
    "model_1 = LongShortTermMemory()\n",
    "models = [ model_1 ]\n",
    "datasets = []\n",
    "for k, v in feature_combos.items():\n",
    "    datasets.append( StockDataGenerator(\n",
    "            'BLK', api='TDA',\n",
    "            period='FIVE_YEAR', period_type='YEAR', \n",
    "            frequency='DAILY', frequency_type='DAILY',\n",
    "            features=v, verbose=0, target='close', \n",
    "            lookback=0, pc=False, \n",
    "    ))\n",
    "for model in models:\n",
    "    for data in datasets:\n",
    "        lstm = KerasRegressor(model=model.compile_model(data.X_train, name=f'set_{k}',verbose=VERBOSITY))\n",
    "        model_pipeline = Pipeline([\n",
    "            (f'lstm_feature_{lstm.__name__}', lstm)\n",
    "        ])\n",
    "        model_params = {\n",
    "            'lstm__epochs': 25, 'lstm__verbose': 1\n",
    "        }\n",
    "\n",
    "model_pipeline.fit(data.X_train, data.y_train, **model_params)\n",
    "\n",
    "    "
   ]
  }
 ],
 "metadata": {
  "kernelspec": {
   "display_name": "Python 3.9.10 ('tf_m1')",
   "language": "python",
   "name": "python3"
  },
  "language_info": {
   "codemirror_mode": {
    "name": "ipython",
    "version": 3
   },
   "file_extension": ".py",
   "mimetype": "text/x-python",
   "name": "python",
   "nbconvert_exporter": "python",
   "pygments_lexer": "ipython3",
   "version": "3.9.10"
  },
  "orig_nbformat": 4,
  "vscode": {
   "interpreter": {
    "hash": "899be85650f4fd9fd1c61155ad1038b3bd3ce4f173c19491b42003eb0b61918c"
   }
  }
 },
 "nbformat": 4,
 "nbformat_minor": 2
}
